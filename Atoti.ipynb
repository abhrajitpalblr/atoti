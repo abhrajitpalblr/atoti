{
 "cells": [
  {
   "cell_type": "code",
   "execution_count": 1,
   "id": "ef827364-2f2b-40f2-8961-c6f35aec1b33",
   "metadata": {},
   "outputs": [
    {
     "name": "stdout",
     "output_type": "stream",
     "text": [
      "Collecting atoti-jupyterlab\n",
      "  Downloading atoti_jupyterlab-0.5.5-0_dc3a2a6-py3-none-any.whl (3.5 MB)\n",
      "Collecting atoti==0.5.5\n",
      "  Downloading atoti-0.5.5-0_dc3a2a6-py3-none-any.whl (150.9 MB)\n",
      "Requirement already satisfied: jupyterlab~=3.0 in c:\\users\\abhra\\anaconda3\\envs\\myenv\\lib\\site-packages (from atoti-jupyterlab) (3.0.14)\n",
      "Collecting pandas\n",
      "  Using cached pandas-1.2.4-cp38-cp38-win_amd64.whl (9.3 MB)\n",
      "Collecting typing-extensions\n",
      "  Using cached typing_extensions-3.10.0.0-py3-none-any.whl (26 kB)\n",
      "Collecting pyyaml\n",
      "  Downloading PyYAML-5.4.1-cp38-cp38-win_amd64.whl (213 kB)\n",
      "Collecting jdk4py==11.0.9.0\n",
      "  Downloading jdk4py-11.0.9.0-py3-none-win_amd64.whl (34.1 MB)\n",
      "Collecting pyarrow~=3.0\n",
      "  Downloading pyarrow-3.0.0-cp38-cp38-win_amd64.whl (12.7 MB)\n",
      "Collecting typeguard\n",
      "  Downloading typeguard-2.12.0-py3-none-any.whl (16 kB)\n",
      "Requirement already satisfied: numpy!=1.19.4 in c:\\users\\abhra\\anaconda3\\envs\\myenv\\lib\\site-packages (from atoti==0.5.5->atoti-jupyterlab) (1.20.3)\n",
      "Requirement already satisfied: jupyter-server~=1.4 in c:\\users\\abhra\\anaconda3\\envs\\myenv\\lib\\site-packages (from jupyterlab~=3.0->atoti-jupyterlab) (1.4.1)\n",
      "Requirement already satisfied: ipython in c:\\users\\abhra\\anaconda3\\envs\\myenv\\lib\\site-packages (from jupyterlab~=3.0->atoti-jupyterlab) (7.23.1)\n",
      "Requirement already satisfied: nbclassic~=0.2 in c:\\users\\abhra\\anaconda3\\envs\\myenv\\lib\\site-packages (from jupyterlab~=3.0->atoti-jupyterlab) (0.2.6)\n",
      "Requirement already satisfied: jupyterlab-server~=2.3 in c:\\users\\abhra\\anaconda3\\envs\\myenv\\lib\\site-packages (from jupyterlab~=3.0->atoti-jupyterlab) (2.4.0)\n",
      "Requirement already satisfied: tornado>=6.1.0 in c:\\users\\abhra\\anaconda3\\envs\\myenv\\lib\\site-packages (from jupyterlab~=3.0->atoti-jupyterlab) (6.1)\n",
      "Requirement already satisfied: jupyter-core in c:\\users\\abhra\\anaconda3\\envs\\myenv\\lib\\site-packages (from jupyterlab~=3.0->atoti-jupyterlab) (4.7.1)\n",
      "Requirement already satisfied: jinja2>=2.10 in c:\\users\\abhra\\anaconda3\\envs\\myenv\\lib\\site-packages (from jupyterlab~=3.0->atoti-jupyterlab) (2.11.3)\n",
      "Requirement already satisfied: jupyter-packaging~=0.7 in c:\\users\\abhra\\anaconda3\\envs\\myenv\\lib\\site-packages (from jupyterlab~=3.0->atoti-jupyterlab) (0.7.12)\n",
      "Requirement already satisfied: packaging in c:\\users\\abhra\\anaconda3\\envs\\myenv\\lib\\site-packages (from jupyterlab~=3.0->atoti-jupyterlab) (20.9)\n",
      "Requirement already satisfied: MarkupSafe>=0.23 in c:\\users\\abhra\\anaconda3\\envs\\myenv\\lib\\site-packages (from jinja2>=2.10->jupyterlab~=3.0->atoti-jupyterlab) (1.1.1)\n",
      "Requirement already satisfied: jupyter-client>=6.1.1 in c:\\users\\abhra\\anaconda3\\envs\\myenv\\lib\\site-packages (from jupyter-server~=1.4->jupyterlab~=3.0->atoti-jupyterlab) (6.1.12)\n",
      "Requirement already satisfied: nbconvert in c:\\users\\abhra\\anaconda3\\envs\\myenv\\lib\\site-packages (from jupyter-server~=1.4->jupyterlab~=3.0->atoti-jupyterlab) (6.0.7)\n",
      "Requirement already satisfied: terminado>=0.8.3 in c:\\users\\abhra\\anaconda3\\envs\\myenv\\lib\\site-packages (from jupyter-server~=1.4->jupyterlab~=3.0->atoti-jupyterlab) (0.9.4)\n",
      "Requirement already satisfied: prometheus-client in c:\\users\\abhra\\anaconda3\\envs\\myenv\\lib\\site-packages (from jupyter-server~=1.4->jupyterlab~=3.0->atoti-jupyterlab) (0.10.1)\n",
      "Requirement already satisfied: anyio>=2.0.2 in c:\\users\\abhra\\anaconda3\\envs\\myenv\\lib\\site-packages (from jupyter-server~=1.4->jupyterlab~=3.0->atoti-jupyterlab) (2.2.0)\n",
      "Requirement already satisfied: ipython-genutils in c:\\users\\abhra\\anaconda3\\envs\\myenv\\lib\\site-packages (from jupyter-server~=1.4->jupyterlab~=3.0->atoti-jupyterlab) (0.2.0)\n",
      "Requirement already satisfied: Send2Trash in c:\\users\\abhra\\anaconda3\\envs\\myenv\\lib\\site-packages (from jupyter-server~=1.4->jupyterlab~=3.0->atoti-jupyterlab) (1.5.0)\n",
      "Requirement already satisfied: nbformat in c:\\users\\abhra\\anaconda3\\envs\\myenv\\lib\\site-packages (from jupyter-server~=1.4->jupyterlab~=3.0->atoti-jupyterlab) (5.1.3)\n",
      "Requirement already satisfied: pywin32>=1.0 in c:\\users\\abhra\\anaconda3\\envs\\myenv\\lib\\site-packages (from jupyter-server~=1.4->jupyterlab~=3.0->atoti-jupyterlab) (300)\n",
      "Requirement already satisfied: traitlets>=4.2.1 in c:\\users\\abhra\\anaconda3\\envs\\myenv\\lib\\site-packages (from jupyter-server~=1.4->jupyterlab~=3.0->atoti-jupyterlab) (5.0.5)\n",
      "Requirement already satisfied: pyzmq>=17 in c:\\users\\abhra\\anaconda3\\envs\\myenv\\lib\\site-packages (from jupyter-server~=1.4->jupyterlab~=3.0->atoti-jupyterlab) (22.0.3)\n",
      "Requirement already satisfied: sniffio>=1.1 in c:\\users\\abhra\\anaconda3\\envs\\myenv\\lib\\site-packages (from anyio>=2.0.2->jupyter-server~=1.4->jupyterlab~=3.0->atoti-jupyterlab) (1.2.0)\n",
      "Requirement already satisfied: idna>=2.8 in c:\\users\\abhra\\anaconda3\\envs\\myenv\\lib\\site-packages (from anyio>=2.0.2->jupyter-server~=1.4->jupyterlab~=3.0->atoti-jupyterlab) (2.10)\n",
      "Requirement already satisfied: python-dateutil>=2.1 in c:\\users\\abhra\\anaconda3\\envs\\myenv\\lib\\site-packages (from jupyter-client>=6.1.1->jupyter-server~=1.4->jupyterlab~=3.0->atoti-jupyterlab) (2.8.1)\n",
      "Requirement already satisfied: requests in c:\\users\\abhra\\anaconda3\\envs\\myenv\\lib\\site-packages (from jupyterlab-server~=2.3->jupyterlab~=3.0->atoti-jupyterlab) (2.25.1)\n",
      "Requirement already satisfied: babel in c:\\users\\abhra\\anaconda3\\envs\\myenv\\lib\\site-packages (from jupyterlab-server~=2.3->jupyterlab~=3.0->atoti-jupyterlab) (2.9.0)\n",
      "Requirement already satisfied: json5 in c:\\users\\abhra\\anaconda3\\envs\\myenv\\lib\\site-packages (from jupyterlab-server~=2.3->jupyterlab~=3.0->atoti-jupyterlab) (0.9.5)\n",
      "Requirement already satisfied: jsonschema>=3.0.1 in c:\\users\\abhra\\anaconda3\\envs\\myenv\\lib\\site-packages (from jupyterlab-server~=2.3->jupyterlab~=3.0->atoti-jupyterlab) (3.2.0)\n",
      "Requirement already satisfied: pyrsistent>=0.14.0 in c:\\users\\abhra\\anaconda3\\envs\\myenv\\lib\\site-packages (from jsonschema>=3.0.1->jupyterlab-server~=2.3->jupyterlab~=3.0->atoti-jupyterlab) (0.17.3)\n",
      "Requirement already satisfied: six>=1.11.0 in c:\\users\\abhra\\anaconda3\\envs\\myenv\\lib\\site-packages (from jsonschema>=3.0.1->jupyterlab-server~=2.3->jupyterlab~=3.0->atoti-jupyterlab) (1.16.0)\n",
      "Requirement already satisfied: setuptools in c:\\users\\abhra\\anaconda3\\envs\\myenv\\lib\\site-packages (from jsonschema>=3.0.1->jupyterlab-server~=2.3->jupyterlab~=3.0->atoti-jupyterlab) (52.0.0.post20210125)\n",
      "Requirement already satisfied: attrs>=17.4.0 in c:\\users\\abhra\\anaconda3\\envs\\myenv\\lib\\site-packages (from jsonschema>=3.0.1->jupyterlab-server~=2.3->jupyterlab~=3.0->atoti-jupyterlab) (21.2.0)\n",
      "Requirement already satisfied: notebook<7 in c:\\users\\abhra\\anaconda3\\envs\\myenv\\lib\\site-packages (from nbclassic~=0.2->jupyterlab~=3.0->atoti-jupyterlab) (6.3.0)\n",
      "Requirement already satisfied: argon2-cffi in c:\\users\\abhra\\anaconda3\\envs\\myenv\\lib\\site-packages (from notebook<7->nbclassic~=0.2->jupyterlab~=3.0->atoti-jupyterlab) (20.1.0)\n",
      "Requirement already satisfied: ipykernel in c:\\users\\abhra\\anaconda3\\envs\\myenv\\lib\\site-packages (from notebook<7->nbclassic~=0.2->jupyterlab~=3.0->atoti-jupyterlab) (5.5.4)\n",
      "Requirement already satisfied: pywinpty>=0.5 in c:\\users\\abhra\\anaconda3\\envs\\myenv\\lib\\site-packages (from terminado>=0.8.3->jupyter-server~=1.4->jupyterlab~=3.0->atoti-jupyterlab) (1.0.1)\n",
      "Requirement already satisfied: cffi>=1.0.0 in c:\\users\\abhra\\anaconda3\\envs\\myenv\\lib\\site-packages (from argon2-cffi->notebook<7->nbclassic~=0.2->jupyterlab~=3.0->atoti-jupyterlab) (1.14.5)\n",
      "Requirement already satisfied: pycparser in c:\\users\\abhra\\anaconda3\\envs\\myenv\\lib\\site-packages (from cffi>=1.0.0->argon2-cffi->notebook<7->nbclassic~=0.2->jupyterlab~=3.0->atoti-jupyterlab) (2.20)\n",
      "Requirement already satisfied: pytz>=2015.7 in c:\\users\\abhra\\anaconda3\\envs\\myenv\\lib\\site-packages (from babel->jupyterlab-server~=2.3->jupyterlab~=3.0->atoti-jupyterlab) (2021.1)\n",
      "Requirement already satisfied: decorator in c:\\users\\abhra\\anaconda3\\envs\\myenv\\lib\\site-packages (from ipython->jupyterlab~=3.0->atoti-jupyterlab) (5.0.7)\n",
      "Requirement already satisfied: matplotlib-inline in c:\\users\\abhra\\anaconda3\\envs\\myenv\\lib\\site-packages (from ipython->jupyterlab~=3.0->atoti-jupyterlab) (0.1.2)\n",
      "Requirement already satisfied: pickleshare in c:\\users\\abhra\\anaconda3\\envs\\myenv\\lib\\site-packages (from ipython->jupyterlab~=3.0->atoti-jupyterlab) (0.7.5)\n",
      "Requirement already satisfied: colorama in c:\\users\\abhra\\anaconda3\\envs\\myenv\\lib\\site-packages (from ipython->jupyterlab~=3.0->atoti-jupyterlab) (0.4.4)\n",
      "Requirement already satisfied: jedi>=0.16 in c:\\users\\abhra\\anaconda3\\envs\\myenv\\lib\\site-packages (from ipython->jupyterlab~=3.0->atoti-jupyterlab) (0.18.0)\n",
      "Requirement already satisfied: pygments in c:\\users\\abhra\\anaconda3\\envs\\myenv\\lib\\site-packages (from ipython->jupyterlab~=3.0->atoti-jupyterlab) (2.9.0)\n",
      "Requirement already satisfied: backcall in c:\\users\\abhra\\anaconda3\\envs\\myenv\\lib\\site-packages (from ipython->jupyterlab~=3.0->atoti-jupyterlab) (0.2.0)\n",
      "Requirement already satisfied: prompt-toolkit!=3.0.0,!=3.0.1,<3.1.0,>=2.0.0 in c:\\users\\abhra\\anaconda3\\envs\\myenv\\lib\\site-packages (from ipython->jupyterlab~=3.0->atoti-jupyterlab) (3.0.18)\n",
      "Requirement already satisfied: parso<0.9.0,>=0.8.0 in c:\\users\\abhra\\anaconda3\\envs\\myenv\\lib\\site-packages (from jedi>=0.16->ipython->jupyterlab~=3.0->atoti-jupyterlab) (0.8.2)\n",
      "Requirement already satisfied: wcwidth in c:\\users\\abhra\\anaconda3\\envs\\myenv\\lib\\site-packages (from prompt-toolkit!=3.0.0,!=3.0.1,<3.1.0,>=2.0.0->ipython->jupyterlab~=3.0->atoti-jupyterlab) (0.2.5)\n",
      "Requirement already satisfied: jupyterlab-pygments in c:\\users\\abhra\\anaconda3\\envs\\myenv\\lib\\site-packages (from nbconvert->jupyter-server~=1.4->jupyterlab~=3.0->atoti-jupyterlab) (0.1.2)\n",
      "Requirement already satisfied: bleach in c:\\users\\abhra\\anaconda3\\envs\\myenv\\lib\\site-packages (from nbconvert->jupyter-server~=1.4->jupyterlab~=3.0->atoti-jupyterlab) (3.3.0)\n",
      "Requirement already satisfied: entrypoints>=0.2.2 in c:\\users\\abhra\\anaconda3\\envs\\myenv\\lib\\site-packages (from nbconvert->jupyter-server~=1.4->jupyterlab~=3.0->atoti-jupyterlab) (0.3)\n",
      "Requirement already satisfied: defusedxml in c:\\users\\abhra\\anaconda3\\envs\\myenv\\lib\\site-packages (from nbconvert->jupyter-server~=1.4->jupyterlab~=3.0->atoti-jupyterlab) (0.7.1)\n",
      "Requirement already satisfied: pandocfilters>=1.4.1 in c:\\users\\abhra\\anaconda3\\envs\\myenv\\lib\\site-packages (from nbconvert->jupyter-server~=1.4->jupyterlab~=3.0->atoti-jupyterlab) (1.4.3)\n",
      "Requirement already satisfied: testpath in c:\\users\\abhra\\anaconda3\\envs\\myenv\\lib\\site-packages (from nbconvert->jupyter-server~=1.4->jupyterlab~=3.0->atoti-jupyterlab) (0.4.4)\n",
      "Requirement already satisfied: nbclient<0.6.0,>=0.5.0 in c:\\users\\abhra\\anaconda3\\envs\\myenv\\lib\\site-packages (from nbconvert->jupyter-server~=1.4->jupyterlab~=3.0->atoti-jupyterlab) (0.5.3)\n",
      "Requirement already satisfied: mistune<2,>=0.8.1 in c:\\users\\abhra\\anaconda3\\envs\\myenv\\lib\\site-packages (from nbconvert->jupyter-server~=1.4->jupyterlab~=3.0->atoti-jupyterlab) (0.8.4)\n",
      "Requirement already satisfied: async-generator in c:\\users\\abhra\\anaconda3\\envs\\myenv\\lib\\site-packages (from nbclient<0.6.0,>=0.5.0->nbconvert->jupyter-server~=1.4->jupyterlab~=3.0->atoti-jupyterlab) (1.10)\n",
      "Requirement already satisfied: nest-asyncio in c:\\users\\abhra\\anaconda3\\envs\\myenv\\lib\\site-packages (from nbclient<0.6.0,>=0.5.0->nbconvert->jupyter-server~=1.4->jupyterlab~=3.0->atoti-jupyterlab) (1.5.1)\n",
      "Requirement already satisfied: webencodings in c:\\users\\abhra\\anaconda3\\envs\\myenv\\lib\\site-packages (from bleach->nbconvert->jupyter-server~=1.4->jupyterlab~=3.0->atoti-jupyterlab) (0.5.1)\n",
      "Requirement already satisfied: pyparsing>=2.0.2 in c:\\users\\abhra\\anaconda3\\envs\\myenv\\lib\\site-packages (from packaging->jupyterlab~=3.0->atoti-jupyterlab) (2.4.7)\n",
      "Requirement already satisfied: certifi>=2017.4.17 in c:\\users\\abhra\\anaconda3\\envs\\myenv\\lib\\site-packages (from requests->jupyterlab-server~=2.3->jupyterlab~=3.0->atoti-jupyterlab) (2020.12.5)\n",
      "Requirement already satisfied: chardet<5,>=3.0.2 in c:\\users\\abhra\\anaconda3\\envs\\myenv\\lib\\site-packages (from requests->jupyterlab-server~=2.3->jupyterlab~=3.0->atoti-jupyterlab) (4.0.0)\n",
      "Requirement already satisfied: urllib3<1.27,>=1.21.1 in c:\\users\\abhra\\anaconda3\\envs\\myenv\\lib\\site-packages (from requests->jupyterlab-server~=2.3->jupyterlab~=3.0->atoti-jupyterlab) (1.26.4)\n",
      "Installing collected packages: typing-extensions, typeguard, pyyaml, pyarrow, pandas, jdk4py, atoti, atoti-jupyterlab\n",
      "Successfully installed atoti-0.5.5 atoti-jupyterlab-0.5.5 jdk4py-11.0.9.0 pandas-1.2.4 pyarrow-3.0.0 pyyaml-5.4.1 typeguard-2.12.0 typing-extensions-3.10.0.0\n"
     ]
    }
   ],
   "source": [
    "!pip install atoti-jupyterlab"
   ]
  },
  {
   "cell_type": "code",
   "execution_count": 27,
   "id": "4df97bdd-5c7b-4f61-8543-324f0fc337b9",
   "metadata": {},
   "outputs": [
    {
     "name": "stderr",
     "output_type": "stream",
     "text": [
      "Deleting existing \"Unnamed\" session to create the new one.\n"
     ]
    }
   ],
   "source": [
    "#Create a session\n",
    "import atoti as tt\n",
    "session=tt.create_session()"
   ]
  },
  {
   "cell_type": "code",
   "execution_count": 28,
   "id": "66ea5f10-7325-4317-a313-2e5d1ede18c0",
   "metadata": {},
   "outputs": [],
   "source": [
    "import pandas as pd"
   ]
  },
  {
   "cell_type": "code",
   "execution_count": 29,
   "id": "215513f0-7dc5-4bc8-8d67-4abfc31b506d",
   "metadata": {},
   "outputs": [],
   "source": [
    "titanic_df=session.read_csv('titanic_df.csv', keys=['SL'])"
   ]
  },
  {
   "cell_type": "code",
   "execution_count": 31,
   "id": "d43234a4-fc9a-4b08-afa2-00baa2c5a4b2",
   "metadata": {},
   "outputs": [
    {
     "data": {
      "text/html": [
       "<div>\n",
       "<style scoped>\n",
       "    .dataframe tbody tr th:only-of-type {\n",
       "        vertical-align: middle;\n",
       "    }\n",
       "\n",
       "    .dataframe tbody tr th {\n",
       "        vertical-align: top;\n",
       "    }\n",
       "\n",
       "    .dataframe thead th {\n",
       "        text-align: right;\n",
       "    }\n",
       "</style>\n",
       "<table border=\"1\" class=\"dataframe\">\n",
       "  <thead>\n",
       "    <tr style=\"text-align: right;\">\n",
       "      <th></th>\n",
       "      <th>survived</th>\n",
       "      <th>pclass</th>\n",
       "      <th>sex</th>\n",
       "      <th>age</th>\n",
       "      <th>sibsp</th>\n",
       "      <th>parch</th>\n",
       "      <th>fare</th>\n",
       "      <th>embarked</th>\n",
       "      <th>class</th>\n",
       "      <th>who</th>\n",
       "      <th>adult_male</th>\n",
       "      <th>deck</th>\n",
       "      <th>embark_town</th>\n",
       "      <th>alive</th>\n",
       "      <th>alone</th>\n",
       "    </tr>\n",
       "    <tr>\n",
       "      <th>SL</th>\n",
       "      <th></th>\n",
       "      <th></th>\n",
       "      <th></th>\n",
       "      <th></th>\n",
       "      <th></th>\n",
       "      <th></th>\n",
       "      <th></th>\n",
       "      <th></th>\n",
       "      <th></th>\n",
       "      <th></th>\n",
       "      <th></th>\n",
       "      <th></th>\n",
       "      <th></th>\n",
       "      <th></th>\n",
       "      <th></th>\n",
       "    </tr>\n",
       "  </thead>\n",
       "  <tbody>\n",
       "    <tr>\n",
       "      <th>0</th>\n",
       "      <td>0</td>\n",
       "      <td>3</td>\n",
       "      <td>male</td>\n",
       "      <td>22.0</td>\n",
       "      <td>1</td>\n",
       "      <td>0</td>\n",
       "      <td>7.2500</td>\n",
       "      <td>S</td>\n",
       "      <td>Third</td>\n",
       "      <td>man</td>\n",
       "      <td>True</td>\n",
       "      <td>A</td>\n",
       "      <td>Southampton</td>\n",
       "      <td>no</td>\n",
       "      <td>False</td>\n",
       "    </tr>\n",
       "    <tr>\n",
       "      <th>1</th>\n",
       "      <td>1</td>\n",
       "      <td>1</td>\n",
       "      <td>female</td>\n",
       "      <td>38.0</td>\n",
       "      <td>1</td>\n",
       "      <td>0</td>\n",
       "      <td>71.2833</td>\n",
       "      <td>C</td>\n",
       "      <td>First</td>\n",
       "      <td>woman</td>\n",
       "      <td>False</td>\n",
       "      <td>C</td>\n",
       "      <td>Cherbourg</td>\n",
       "      <td>yes</td>\n",
       "      <td>False</td>\n",
       "    </tr>\n",
       "    <tr>\n",
       "      <th>2</th>\n",
       "      <td>1</td>\n",
       "      <td>3</td>\n",
       "      <td>female</td>\n",
       "      <td>26.0</td>\n",
       "      <td>0</td>\n",
       "      <td>0</td>\n",
       "      <td>7.9250</td>\n",
       "      <td>S</td>\n",
       "      <td>Third</td>\n",
       "      <td>woman</td>\n",
       "      <td>False</td>\n",
       "      <td>A</td>\n",
       "      <td>Southampton</td>\n",
       "      <td>yes</td>\n",
       "      <td>True</td>\n",
       "    </tr>\n",
       "    <tr>\n",
       "      <th>3</th>\n",
       "      <td>1</td>\n",
       "      <td>1</td>\n",
       "      <td>female</td>\n",
       "      <td>35.0</td>\n",
       "      <td>1</td>\n",
       "      <td>0</td>\n",
       "      <td>53.1000</td>\n",
       "      <td>S</td>\n",
       "      <td>First</td>\n",
       "      <td>woman</td>\n",
       "      <td>False</td>\n",
       "      <td>C</td>\n",
       "      <td>Southampton</td>\n",
       "      <td>yes</td>\n",
       "      <td>False</td>\n",
       "    </tr>\n",
       "    <tr>\n",
       "      <th>4</th>\n",
       "      <td>0</td>\n",
       "      <td>3</td>\n",
       "      <td>male</td>\n",
       "      <td>35.0</td>\n",
       "      <td>0</td>\n",
       "      <td>0</td>\n",
       "      <td>8.0500</td>\n",
       "      <td>S</td>\n",
       "      <td>Third</td>\n",
       "      <td>man</td>\n",
       "      <td>True</td>\n",
       "      <td>A</td>\n",
       "      <td>Southampton</td>\n",
       "      <td>no</td>\n",
       "      <td>True</td>\n",
       "    </tr>\n",
       "  </tbody>\n",
       "</table>\n",
       "</div>"
      ],
      "text/plain": [
       "    survived  pclass     sex   age  sibsp  parch     fare embarked  class  \\\n",
       "SL                                                                          \n",
       "0          0       3    male  22.0      1      0   7.2500        S  Third   \n",
       "1          1       1  female  38.0      1      0  71.2833        C  First   \n",
       "2          1       3  female  26.0      0      0   7.9250        S  Third   \n",
       "3          1       1  female  35.0      1      0  53.1000        S  First   \n",
       "4          0       3    male  35.0      0      0   8.0500        S  Third   \n",
       "\n",
       "      who adult_male deck  embark_town alive  alone  \n",
       "SL                                                   \n",
       "0     man       True    A  Southampton    no  False  \n",
       "1   woman      False    C    Cherbourg   yes  False  \n",
       "2   woman      False    A  Southampton   yes   True  \n",
       "3   woman      False    C  Southampton   yes  False  \n",
       "4     man       True    A  Southampton    no   True  "
      ]
     },
     "execution_count": 31,
     "metadata": {},
     "output_type": "execute_result"
    }
   ],
   "source": [
    "titanic_df.head()"
   ]
  },
  {
   "cell_type": "code",
   "execution_count": 32,
   "id": "60549738-d59a-4f4f-a455-36adda7c0618",
   "metadata": {},
   "outputs": [],
   "source": [
    "cube=session.create_cube(titanic_df)"
   ]
  },
  {
   "cell_type": "code",
   "execution_count": 33,
   "id": "d103c553-6301-444a-aff1-10684deb4a09",
   "metadata": {},
   "outputs": [
    {
     "data": {
      "application/vnd.atoti.widget.v0+json": {
       "name": null,
       "session": "Unnamed"
      },
      "text/plain": [
       "Open the notebook in JupyterLab with the atoti extension installed and enabled to start editing this widget."
      ]
     },
     "metadata": {},
     "output_type": "display_data"
    }
   ],
   "source": [
    "session.visualize()"
   ]
  },
  {
   "cell_type": "code",
   "execution_count": 34,
   "id": "d5e10079-499d-4111-9de5-996cd958a30c",
   "metadata": {},
   "outputs": [
    {
     "data": {
      "text/plain": [
       "'http://localhost:65277'"
      ]
     },
     "execution_count": 34,
     "metadata": {},
     "output_type": "execute_result"
    }
   ],
   "source": [
    "session.url"
   ]
  },
  {
   "cell_type": "code",
   "execution_count": null,
   "id": "a569d88c-6f17-4db5-9216-6e43a98789fe",
   "metadata": {},
   "outputs": [],
   "source": []
  },
  {
   "cell_type": "code",
   "execution_count": null,
   "id": "d4096d50-d5db-46c6-872e-f5435344990a",
   "metadata": {},
   "outputs": [],
   "source": []
  },
  {
   "cell_type": "code",
   "execution_count": null,
   "id": "663037aa-c6df-44d9-961e-74e78b3bba14",
   "metadata": {},
   "outputs": [],
   "source": []
  }
 ],
 "metadata": {
  "kernelspec": {
   "display_name": "Python 3",
   "language": "python",
   "name": "python3"
  },
  "language_info": {
   "codemirror_mode": {
    "name": "ipython",
    "version": 3
   },
   "file_extension": ".py",
   "mimetype": "text/x-python",
   "name": "python",
   "nbconvert_exporter": "python",
   "pygments_lexer": "ipython3",
   "version": "3.8.8"
  }
 },
 "nbformat": 4,
 "nbformat_minor": 5
}
